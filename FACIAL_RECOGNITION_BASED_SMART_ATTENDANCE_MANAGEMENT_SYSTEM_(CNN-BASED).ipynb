{
 "cells": [
  {
   "cell_type": "code",
   "execution_count": 5,
   "id": "33354c66",
   "metadata": {},
   "outputs": [
    {
     "name": "stdout",
     "output_type": "stream",
     "text": [
      "Requirement already satisfied: opencv-python in c:\\users\\hp\\machine_learning\\program\\env\\lib\\site-packages (4.8.0.76)\n",
      "Requirement already satisfied: numpy>=1.19.3 in c:\\users\\hp\\machine_learning\\program\\env\\lib\\site-packages (from opencv-python) (1.23.5)\n"
     ]
    }
   ],
   "source": [
    "! pip install opencv-python"
   ]
  },
  {
   "cell_type": "code",
   "execution_count": 6,
   "id": "ca498e00",
   "metadata": {},
   "outputs": [],
   "source": [
    "import cv2\n"
   ]
  },
  {
   "cell_type": "code",
   "execution_count": 7,
   "id": "94dd1308",
   "metadata": {},
   "outputs": [
    {
     "name": "stdout",
     "output_type": "stream",
     "text": [
      "Microsoft Windows [Version 10.0.22621.2283]\n",
      "(c) Microsoft Corporation. All rights reserved.\n",
      "\n",
      "(C:\\Users\\HP\\machine_learning\\program\\env) C:\\Users\\HP\\Machine_Learning\\program>where python\n",
      "C:\\Users\\HP\\machine_learning\\program\\env\\python.exe\n",
      "C:\\Users\\HP\\AppData\\Local\\Microsoft\\WindowsApps\\python.exe\n",
      "\n",
      "(C:\\Users\\HP\\machine_learning\\program\\env) C:\\Users\\HP\\Machine_Learning\\program>"
     ]
    }
   ],
   "source": [
    "%%cmd\n",
    "where python"
   ]
  },
  {
   "cell_type": "code",
   "execution_count": 8,
   "id": "7f41e029",
   "metadata": {},
   "outputs": [
    {
     "name": "stdout",
     "output_type": "stream",
     "text": [
      "Microsoft Windows [Version 10.0.22621.2283]\n",
      "(c) Microsoft Corporation. All rights reserved.\n",
      "\n",
      "(C:\\Users\\HP\\machine_learning\\program\\env) C:\\Users\\HP\\Machine_Learning\\program>pip install face-recognition\n",
      "Requirement already satisfied: face-recognition in c:\\users\\hp\\machine_learning\\program\\env\\lib\\site-packages (1.3.0)\n",
      "Requirement already satisfied: face-recognition-models>=0.3.0 in c:\\users\\hp\\machine_learning\\program\\env\\lib\\site-packages (from face-recognition) (0.3.0)\n",
      "Requirement already satisfied: Click>=6.0 in c:\\users\\hp\\machine_learning\\program\\env\\lib\\site-packages (from face-recognition) (8.1.7)\n",
      "Requirement already satisfied: dlib>=19.7 in c:\\users\\hp\\machine_learning\\program\\env\\lib\\site-packages (from face-recognition) (19.22.99)\n",
      "Requirement already satisfied: numpy in c:\\users\\hp\\machine_learning\\program\\env\\lib\\site-packages (from face-recognition) (1.23.5)\n",
      "Requirement already satisfied: Pillow in c:\\users\\hp\\machine_learning\\program\\env\\lib\\site-packages (from face-recognition) (9.4.0)\n",
      "Requirement already satisfied: colorama in c:\\users\\hp\\machine_learning\\program\\env\\lib\\site-packages (from Click>=6.0->face-recognition) (0.4.6)\n",
      "\n",
      "(C:\\Users\\HP\\machine_learning\\program\\env) C:\\Users\\HP\\Machine_Learning\\program>"
     ]
    }
   ],
   "source": [
    "%%cmd\n",
    "pip install face-recognition"
   ]
  },
  {
   "cell_type": "code",
   "execution_count": 9,
   "id": "487e6cff",
   "metadata": {},
   "outputs": [
    {
     "name": "stdout",
     "output_type": "stream",
     "text": [
      "Microsoft Windows [Version 10.0.22621.2283]\n",
      "(c) Microsoft Corporation. All rights reserved.\n",
      "\n",
      "(C:\\Users\\HP\\machine_learning\\program\\env) C:\\Users\\HP\\Machine_Learning\\program>pip install cmake\n",
      "Requirement already satisfied: cmake in c:\\users\\hp\\machine_learning\\program\\env\\lib\\site-packages (3.27.5)\n",
      "\n",
      "(C:\\Users\\HP\\machine_learning\\program\\env) C:\\Users\\HP\\Machine_Learning\\program>"
     ]
    }
   ],
   "source": [
    "%%cmd\n",
    "pip install cmake"
   ]
  },
  {
   "cell_type": "code",
   "execution_count": 10,
   "id": "539cf7a3",
   "metadata": {},
   "outputs": [
    {
     "name": "stdout",
     "output_type": "stream",
     "text": [
      "Microsoft Windows [Version 10.0.22621.2283]\n",
      "(c) Microsoft Corporation. All rights reserved.\n",
      "\n",
      "(C:\\Users\\HP\\machine_learning\\program\\env) C:\\Users\\HP\\Machine_Learning\\program>python --version\n",
      "Python 3.10.9\n",
      "\n",
      "(C:\\Users\\HP\\machine_learning\\program\\env) C:\\Users\\HP\\Machine_Learning\\program>"
     ]
    }
   ],
   "source": [
    "%%cmd\n",
    "python --version\n"
   ]
  },
  {
   "cell_type": "code",
   "execution_count": 11,
   "id": "b4e9bda6",
   "metadata": {},
   "outputs": [
    {
     "name": "stdout",
     "output_type": "stream",
     "text": [
      "Microsoft Windows [Version 10.0.22621.2283]\n",
      "(c) Microsoft Corporation. All rights reserved.\n",
      "\n",
      "(C:\\Users\\HP\\machine_learning\\program\\env) C:\\Users\\HP\\Machine_Learning\\program>pip install \"C:\\Users\\HP\\Downloads\\dlib-19.22.99-cp310-cp310-win_amd64.whl\"\n",
      "Processing c:\\users\\hp\\downloads\\dlib-19.22.99-cp310-cp310-win_amd64.whl\n",
      "dlib is already installed with the same version as the provided wheel. Use --force-reinstall to force an installation of the wheel.\n",
      "\n",
      "(C:\\Users\\HP\\machine_learning\\program\\env) C:\\Users\\HP\\Machine_Learning\\program>"
     ]
    }
   ],
   "source": [
    "%%cmd\n",
    "pip install \"C:\\Users\\HP\\Downloads\\dlib-19.22.99-cp310-cp310-win_amd64.whl\""
   ]
  },
  {
   "cell_type": "code",
   "execution_count": 12,
   "id": "60c9c391",
   "metadata": {},
   "outputs": [
    {
     "name": "stdout",
     "output_type": "stream",
     "text": [
      "Microsoft Windows [Version 10.0.22621.2283]\n",
      "(c) Microsoft Corporation. All rights reserved.\n",
      "\n",
      "(C:\\Users\\HP\\machine_learning\\program\\env) C:\\Users\\HP\\Machine_Learning\\program>pip install face-recognition\n",
      "Requirement already satisfied: face-recognition in c:\\users\\hp\\machine_learning\\program\\env\\lib\\site-packages (1.3.0)\n",
      "Requirement already satisfied: Click>=6.0 in c:\\users\\hp\\machine_learning\\program\\env\\lib\\site-packages (from face-recognition) (8.1.7)\n",
      "Requirement already satisfied: Pillow in c:\\users\\hp\\machine_learning\\program\\env\\lib\\site-packages (from face-recognition) (9.4.0)\n",
      "Requirement already satisfied: face-recognition-models>=0.3.0 in c:\\users\\hp\\machine_learning\\program\\env\\lib\\site-packages (from face-recognition) (0.3.0)\n",
      "Requirement already satisfied: numpy in c:\\users\\hp\\machine_learning\\program\\env\\lib\\site-packages (from face-recognition) (1.23.5)\n",
      "Requirement already satisfied: dlib>=19.7 in c:\\users\\hp\\machine_learning\\program\\env\\lib\\site-packages (from face-recognition) (19.22.99)\n",
      "Requirement already satisfied: colorama in c:\\users\\hp\\machine_learning\\program\\env\\lib\\site-packages (from Click>=6.0->face-recognition) (0.4.6)\n",
      "\n",
      "(C:\\Users\\HP\\machine_learning\\program\\env) C:\\Users\\HP\\Machine_Learning\\program>"
     ]
    }
   ],
   "source": [
    "%%cmd\n",
    "pip install face-recognition"
   ]
  },
  {
   "cell_type": "code",
   "execution_count": 13,
   "id": "1c970e97",
   "metadata": {},
   "outputs": [
    {
     "name": "stdout",
     "output_type": "stream",
     "text": [
      "Requirement already satisfied: numpy in c:\\users\\hp\\machine_learning\\program\\env\\lib\\site-packages (1.23.5)\n"
     ]
    }
   ],
   "source": [
    "! pip install numpy"
   ]
  },
  {
   "cell_type": "code",
   "execution_count": 14,
   "id": "97f4178a",
   "metadata": {},
   "outputs": [
    {
     "name": "stdout",
     "output_type": "stream",
     "text": [
      "Requirement already satisfied: pillow in c:\\users\\hp\\machine_learning\\program\\env\\lib\\site-packages (9.4.0)\n"
     ]
    }
   ],
   "source": [
    "! pip install pillow"
   ]
  },
  {
   "cell_type": "code",
   "execution_count": 15,
   "id": "93482030",
   "metadata": {},
   "outputs": [
    {
     "name": "stdout",
     "output_type": "stream",
     "text": [
      "Requirement already satisfied: opencv-python-headless in c:\\users\\hp\\machine_learning\\program\\env\\lib\\site-packages (4.8.0.76)\n",
      "Requirement already satisfied: numpy>=1.17.3 in c:\\users\\hp\\machine_learning\\program\\env\\lib\\site-packages (from opencv-python-headless) (1.23.5)\n"
     ]
    }
   ],
   "source": [
    "!pip install opencv-python-headless"
   ]
  },
  {
   "cell_type": "code",
   "execution_count": 3,
   "id": "07be7e93",
   "metadata": {},
   "outputs": [
    {
     "name": "stdout",
     "output_type": "stream",
     "text": [
      "Encoding Complete\n",
      "Alert: Student SUBHRA-154 has entered the class!\n",
      "FINAL ATTENDANCE STATUS: ABSENT AS THE STUDENT DID NOT SPEND MINIMUM TIME IN CLASS : SUBHRA-154\n",
      "FINAL ATTENDANCE STATUS: TOTALLY ABSENT : SOUHARDO-157\n",
      "FINAL ATTENDANCE STATUS: TOTALLY ABSENT : NAMRATA-152\n",
      "FINAL ATTENDANCE STATUS: TOTALLY ABSENT : POULAMI-L207\n",
      "FINAL ATTENDANCE STATUS: TOTALLY ABSENT : SAYANTIKA-151\n",
      "Email sent successfully to subhra15officials@gmail.com\n"
     ]
    }
   ],
   "source": [
    "import cv2\n",
    "import numpy as np\n",
    "import face_recognition\n",
    "import os\n",
    "import csv\n",
    "from datetime import datetime, timedelta\n",
    "import smtplib\n",
    "from email.mime.text import MIMEText\n",
    "from email.mime.multipart import MIMEMultipart\n",
    "from email.mime.application import MIMEApplication\n",
    "\n",
    "\n",
    "# Set the path to the directory containing subdirectories for each student\n",
    "path = 'Goku'\n",
    "images = []\n",
    "classNames = []\n",
    "\n",
    "# Loop through all subdirectories (each representing a student)\n",
    "for student_dir in os.listdir(path):\n",
    "    student_path = os.path.join(path, student_dir)\n",
    "    \n",
    "    if os.path.isdir(student_path):\n",
    "        # Loop through all image files within the student's directory\n",
    "        for image_file in os.listdir(student_path):\n",
    "            image_path = os.path.join(student_path, image_file)\n",
    "            \n",
    "            if os.path.isfile(image_path):\n",
    "                # Load the image and append it to the 'images' list\n",
    "                curImg = cv2.imread(image_path)\n",
    "                \n",
    "                if curImg is not None:\n",
    "                    images.append(curImg)\n",
    "                    classNames.append(student_dir)  # Use the student's directory name as the class name\n",
    "                else:\n",
    "                    print(f\"Warning: Unable to load image {image_path}\")\n",
    "\n",
    "# Now, 'images' contains all the loaded images, and 'classNames' contains their corresponding student names.\n",
    "\n",
    "\n",
    "# Function to find encodings of known faces\n",
    "def findEncodings(images):\n",
    "    encodeList = []\n",
    "    for img in images:\n",
    "        img = cv2.cvtColor(img, cv2.COLOR_BGR2RGB)\n",
    "        encode = face_recognition.face_encodings(img, model=\"cnn\")[0]  # Use the CNN model for face recognition\n",
    "        encodeList.append(encode)\n",
    "    return encodeList\n",
    "\n",
    "\n",
    "\n",
    "# Function to mark attendance\n",
    "def markAttendance(name, csv_file, alert_message=None):\n",
    "    if name != \"Unknown\":  # Only mark attendance if the name is not \"Unknown\"\n",
    "        with open(csv_file, 'a', newline='') as f:\n",
    "            now = datetime.now()\n",
    "            date = now.strftime('%Y-%m-%d')\n",
    "            day_of_week = now.strftime('%A')\n",
    "            time_stamp = now.strftime('%H:%M:%S')\n",
    "            \n",
    "            if alert_message:\n",
    "                row = [name, date, day_of_week, time_stamp, alert_message]\n",
    "            else:\n",
    "                row = [name, date, day_of_week, time_stamp, alert_message]\n",
    "\n",
    "            writer = csv.writer(f)\n",
    "            writer.writerow(row)\n",
    "\n",
    "\n",
    "\n",
    "\n",
    "# Function to send an email with the CSV file as an attachment\n",
    "def send_email(csv_file):\n",
    "    # Email configuration\n",
    "    sender_email = 'subhrabandyopadhyay15@gmail.com'  # Change to your email\n",
    "    sender_password = 'lzks uedv fqco egir'  # Change to your email password\n",
    "    recipient_email = 'subhra15officials@gmail.com'  # Change to recipient's email\n",
    "    smtp_server = 'smtp.gmail.com'  # Change to your SMTP server\n",
    "    smtp_port = 587  # Change to your SMTP server's port\n",
    "\n",
    "    # Create the email message\n",
    "    msg = MIMEMultipart()\n",
    "    msg['From'] = sender_email\n",
    "    msg['To'] = recipient_email\n",
    "    msg['Subject'] = 'Attendance Report'\n",
    "\n",
    "    # Attach the CSV file\n",
    "    with open(csv_file, 'rb') as file:\n",
    "        part = MIMEApplication(file.read(), Name=os.path.basename(csv_file))\n",
    "        part['Content-Disposition'] = f'attachment; filename=\"{os.path.basename(csv_file)}\"'\n",
    "        msg.attach(part)\n",
    "\n",
    "    # Connect to the SMTP server and send the email\n",
    "    try:\n",
    "        server = smtplib.SMTP(smtp_server, smtp_port)\n",
    "        server.starttls()\n",
    "        server.login(sender_email, sender_password)\n",
    "        text = msg.as_string()\n",
    "        server.sendmail(sender_email, recipient_email, text)\n",
    "        server.quit()\n",
    "        print(f\"Email sent successfully to {recipient_email}\")\n",
    "    except Exception as e:\n",
    "        print(f\"Error sending email: {str(e)}\")\n",
    "\n",
    "# Initialize known face encodings\n",
    "encodeListKnown = findEncodings(images)\n",
    "print('Encoding Complete')\n",
    "\n",
    "# Initialize webcam capture\n",
    "cap = cv2.VideoCapture(0)\n",
    "\n",
    "# Generate a unique CSV file name based on the current timestamp\n",
    "csv_file = f'Attendance_Book_{datetime.now().strftime(\"%Y-%m-%d_%H-%M-%S\")}.csv'\n",
    "\n",
    "# Define the header row\n",
    "header = ['  NAME  ','  DATE  ',   '  DAY_OF_WEEK  ', '  TIME-STAMP  ', '  ATTENDANCE-STATUS  ']\n",
    "# Write the header row to the CSV file\n",
    "with open(csv_file, mode='w', newline='') as file:\n",
    "    writer = csv.writer(file)\n",
    "    writer.writerow(header)\n",
    "\n",
    "\n",
    "# Initialize attendance record\n",
    "attendance = {}\n",
    "crypto={}\n",
    "\n",
    "\n",
    "\n",
    "# Set the threshold time for student presence (adjust as needed)\n",
    "presence_threshold = timedelta(seconds=10)\n",
    "absence_threshold = timedelta(seconds=5)\n",
    "attendance_recorded = set()  # Initialize the set to keep track of recorded attendance\n",
    "\n",
    "# Set the tolerance for face recognition (adjust as needed, lower values are stricter)\n",
    "tolerance = 0.5\n",
    "\n",
    "# Create a set of all class names\n",
    "all_class_names = set(classNames)\n",
    "\n",
    "while True:\n",
    "    success, img = cap.read()\n",
    "    imgS = cv2.resize(img, (0, 0), None, 0.25, 0.25)\n",
    "    imgS = cv2.cvtColor(imgS, cv2.COLOR_BGR2RGB)\n",
    "\n",
    "    facesCurFrame = face_recognition.face_locations(imgS, model=\"cnn\")  # Use the CNN model for face detection\n",
    "    encodesCurFrame = face_recognition.face_encodings(imgS, facesCurFrame)\n",
    "\n",
    "    # Create a list to keep track of students present in the current frame\n",
    "    students_present = []\n",
    "\n",
    "    for encodeFace, faceLoc in zip(encodesCurFrame, facesCurFrame):\n",
    "        matches = face_recognition.compare_faces(encodeListKnown, encodeFace, tolerance=tolerance)\n",
    "        faceDis = face_recognition.face_distance(encodeListKnown, encodeFace)\n",
    "        matchIndex = np.argmin(faceDis)\n",
    "\n",
    "        if matches[matchIndex]:\n",
    "            student_name = classNames[matchIndex].upper()\n",
    "            confidence = 100 - (faceDis[matchIndex] * 100)  # Calculate confidence percentage\n",
    "            students_present.append(student_name)\n",
    "\n",
    "            y1, x2, y2, x1 = faceLoc\n",
    "            y1, x2, y2, x1 = y1 * 4, x2 * 4, y2 * 4, x1 * 4\n",
    "            cv2.rectangle(img, (x1, y1), (x2, y2), (0, 255, 0), 2)\n",
    "            cv2.rectangle(img, (x1, y2 - 35), (x2, y2), (0, 255, 0), cv2.FILLED)\n",
    "            cv2.putText(img, f\"{student_name} ({confidence:.2f}%)\", (x1 + 6, y2 - 6), cv2.FONT_HERSHEY_COMPLEX, 1, (0, 0, 255), 2)\n",
    "\n",
    "\n",
    "            if student_name not in attendance:\n",
    "                alert_message = f\"Alert: Student {student_name} has entered the class!\"\n",
    "                print(alert_message)\n",
    "                #markAttendance(student_name, csv_file, alert_message)\n",
    "                attendance[student_name] = datetime.now()\n",
    "                crypto[student_name]= datetime.now()\n",
    "                \n",
    "            else:\n",
    "                last_seen = attendance[student_name]\n",
    "                current_time = datetime.now()\n",
    "                time_difference = current_time - last_seen\n",
    "\n",
    "                # Check if the student has been present for at least 10 seconds\n",
    "                if time_difference >= presence_threshold:\n",
    "                    if student_name not in attendance_recorded:\n",
    "                        markAttendance(student_name, csv_file, \"FINAL ATTENDANCE STATUS: PRESENT\")\n",
    "                        attendance_recorded.add(student_name)\n",
    "                        \n",
    "                        print(\"FINAL ATTENDANCE STATUS PRESENT:\", student_name)\n",
    "                        \n",
    "        else:\n",
    "            # Unknown person logic\n",
    "            y1, x2, y2, x1 = faceLoc\n",
    "            y1, x2, y2, x1 = y1 * 4, x2 * 4, y2 * 4, x1 * 4\n",
    "            cv2.rectangle(img, (x1, y1), (x2, y2), (0, 0, 255), 2)  # Red rectangle\n",
    "            cv2.putText(img, \"Unknown\", (x1 + 6, y2 - 6), cv2.FONT_HERSHEY_COMPLEX, 1, (255, 255, 255), 2)\n",
    "\n",
    "           \n",
    "\n",
    "    # Check for students who were previously marked as present but are not in the current frame\n",
    "    for student_name, last_seen in list(attendance.items()):\n",
    "        if student_name not in students_present:\n",
    "            current_time = datetime.now()\n",
    "            time_difference = current_time - last_seen\n",
    "            if time_difference > absence_threshold:\n",
    "                alert_message = f\"Alert: Student {student_name} has left the class!\"\n",
    "                print(alert_message)\n",
    "                #markAttendance(student_name, csv_file, alert_message)\n",
    "                \n",
    "                \n",
    "                crypto[student_name]= datetime.now()\n",
    "                del attendance[student_name]\n",
    "                \n",
    "                \n",
    "\n",
    "\n",
    "    cv2.imshow('Webcam', img)\n",
    "    if cv2.waitKey(1) & 0xFF == ord('q'):\n",
    "        # Before exiting the program, add a final attendance entry for each student\n",
    "        for student_name in crypto:\n",
    "            if student_name not in attendance_recorded: \n",
    "                markAttendance(student_name, csv_file, \"FINAL ATTENDANCE STATUS: ABSENT AS THE STUDENT DID NOT SPEND MINIMUM TIME IN CLASS\")\n",
    "                print(\"FINAL ATTENDANCE STATUS: ABSENT AS THE STUDENT DID NOT SPEND MINIMUM TIME IN CLASS :\", student_name)\n",
    "        # Check for students who never entered the class and mark them as totally absent\n",
    "        totally_absent_students = all_class_names - set(attendance.keys())-set(crypto.keys())\n",
    "        for student_name in totally_absent_students:\n",
    "            markAttendance(student_name, csv_file, \"FINAL ATTENDANCE STATUS: TOTALLY ABSENT\")\n",
    "            print(\"FINAL ATTENDANCE STATUS: TOTALLY ABSENT :\", student_name)\n",
    "        # Close the CSV file\n",
    "        with open(csv_file, 'a') as f:\n",
    "            f.close()\n",
    "        \n",
    "        break\n",
    "\n",
    "# After attendance is marked, send the email with the CSV file\n",
    "send_email(csv_file)\n",
    "\n",
    "# Release the webcam and close all windows\n",
    "cap.release()\n",
    "cv2.destroyAllWindows()"
   ]
  },
  {
   "cell_type": "code",
   "execution_count": null,
   "id": "5c85ce4f",
   "metadata": {},
   "outputs": [],
   "source": []
  },
  {
   "cell_type": "markdown",
   "id": "8c87554d",
   "metadata": {},
   "source": []
  },
  {
   "cell_type": "code",
   "execution_count": null,
   "id": "4ff2782c",
   "metadata": {},
   "outputs": [],
   "source": []
  },
  {
   "cell_type": "code",
   "execution_count": null,
   "id": "b67d5956",
   "metadata": {},
   "outputs": [],
   "source": []
  },
  {
   "cell_type": "code",
   "execution_count": null,
   "id": "50616180",
   "metadata": {},
   "outputs": [],
   "source": []
  }
 ],
 "metadata": {
  "kernelspec": {
   "display_name": "Python 3 (ipykernel)",
   "language": "python",
   "name": "python3"
  },
  "language_info": {
   "codemirror_mode": {
    "name": "ipython",
    "version": 3
   },
   "file_extension": ".py",
   "mimetype": "text/x-python",
   "name": "python",
   "nbconvert_exporter": "python",
   "pygments_lexer": "ipython3",
   "version": "3.10.9"
  }
 },
 "nbformat": 4,
 "nbformat_minor": 5
}
